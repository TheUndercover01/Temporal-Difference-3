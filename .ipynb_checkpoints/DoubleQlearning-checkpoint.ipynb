{
 "cells": [
  {
   "cell_type": "code",
   "execution_count": 1,
   "id": "35f8f441-2dd8-499d-9ce6-7665fbd285c6",
   "metadata": {},
   "outputs": [
    {
     "name": "stderr",
     "output_type": "stream",
     "text": [
      "pybullet build time: Dec 17 2023 23:51:54\n"
     ]
    }
   ],
   "source": [
    "import pybullet as p\n",
    "import time\n",
    "import numpy as np\n",
    "import pybullet_data \n",
    "import matplotlib.pyplot as plt\n",
    "from collections import Counter\n",
    "import random\n",
    "from Env import Pickup_Bot_Env\n",
    "# from agent import Agent\n",
    "import os\n",
    "import math"
   ]
  },
  {
   "cell_type": "code",
   "execution_count": 2,
   "id": "34f1a50a-0149-4c22-ae7b-56a60caa04cc",
   "metadata": {},
   "outputs": [],
   "source": [
    "iterations = 1000\n",
    "gamma = 0.9\n",
    "epsilon = 0.3 #had to tinker a bit so that exploration is appreciated \n",
    "alpha = 0.1"
   ]
  },
  {
   "cell_type": "code",
   "execution_count": 3,
   "id": "3bc85714-4966-494b-b9dd-7f872cfe166f",
   "metadata": {},
   "outputs": [],
   "source": [
    "action_to_index = {\n",
    "    'move_down' : 0,\n",
    "    'move_up' : 1 ,\n",
    "    'move_left' : 2 ,\n",
    "    'move_right' :3,\n",
    "    'close_gripper' : 4,\n",
    "    'open_gripper' :5\n",
    "}\n",
    "Q1 = {\n",
    "    (0, 0.53, -0.84, -0.84): [50, 50, 50, 50, 50, 50],\n",
    "    (0, 0.53, 0.04, 0.04): [50, 50, 50, 50, 50, 50],\n",
    "    (3.14, 0.53, -0.84, -0.84): [50, 50, 50, 50, 50, 50],\n",
    "    (3.14, 0.53, 0.04, 0.04): [50, 50, 50, 50, 50, 50],\n",
    "    (-1.57, 0.53, -0.84, -0.84): [50, 50, 50, 50, 50, 50],\n",
    "    (-1.57, 0.53, 0.04, 0.04): [50, 50, 50, 50, 50, 50],\n",
    "    (1.57, 0.53, -0.84, -0.84): [50, 50, 50, 50, 50, 50],\n",
    "    (1.57, 0.53, 0.04, 0.04): [50, 50, 50, 50, 50, 50],\n",
    "    (0, 0.11, -0.84, -0.84): [50, 50, 50, 50, 50, 50],\n",
    "    (0, 0.11, 0.04, 0.04): [50, 50, 50, 50, 50, 50],\n",
    "    (3.14, 0.11, -0.84, -0.84): [50, 50, 50, 50, 50, 50],\n",
    "    (3.14, 0.11, 0.04, 0.04): [0, 0, 0, 0, 0, 0],\n",
    "    (-1.57, 0.11, -0.84, -0.84): [50, 50, 50, 50, 50, 50],\n",
    "    (-1.57, 0.11, 0.04, 0.04): [50, 50, 50, 50, 50, 50],\n",
    "    (1.57, 0.11, -0.84, -0.84): [50, 50, 50, 50, 50, 50],\n",
    "    (1.57, 0.11, 0.04, 0.04): [50, 50, 50, 50, 50, 50],\n",
    "    (0, 0.32, -0.84, -0.84): [50, 50, 50, 50, 50, 50],\n",
    "    (0, 0.32, 0.04, 0.04): [50, 50, 50, 50, 50, 50],\n",
    "    (3.14, 0.32, -0.84, -0.84): [50, 50, 50, 50, 50, 50],\n",
    "    (3.14, 0.32, 0.04, 0.04): [50, 50, 50, 50, 50, 50],\n",
    "    (-1.57, 0.32, -0.84, -0.84): [50, 50, 50, 50, 50, 50],\n",
    "    (-1.57, 0.32, 0.04, 0.04): [50, 50, 50, 50, 50, 50],\n",
    "    (1.57, 0.32, -0.84, -0.84): [50, 50, 50, 50, 50, 50],\n",
    "    (1.57, 0.32, 0.04, 0.04): [50, 50, 50, 50, 50, 50]\n",
    "}\n",
    "\n",
    "Q2 = {\n",
    "    (0, 0.53, -0.84, -0.84): [50, 50, 50, 50, 50, 50],\n",
    "    (0, 0.53, 0.04, 0.04): [50, 50, 50, 50, 50, 50],\n",
    "    (3.14, 0.53, -0.84, -0.84): [50, 50, 50, 50, 50, 50],\n",
    "    (3.14, 0.53, 0.04, 0.04): [50, 50, 50, 50, 50, 50],\n",
    "    (-1.57, 0.53, -0.84, -0.84): [50, 50, 50, 50, 50, 50],\n",
    "    (-1.57, 0.53, 0.04, 0.04): [50, 50, 50, 50, 50, 50],\n",
    "    (1.57, 0.53, -0.84, -0.84): [50, 50, 50, 50, 50, 50],\n",
    "    (1.57, 0.53, 0.04, 0.04): [50, 50, 50, 50, 50, 50],\n",
    "    (0, 0.11, -0.84, -0.84): [50, 50, 50, 50, 50, 50],\n",
    "    (0, 0.11, 0.04, 0.04): [50, 50, 50, 50, 50, 50],\n",
    "    (3.14, 0.11, -0.84, -0.84): [50, 50, 50, 50, 50, 50],\n",
    "    (3.14, 0.11, 0.04, 0.04): [0, 0, 0, 0, 0, 0],\n",
    "    (-1.57, 0.11, -0.84, -0.84): [50, 50, 50, 50, 50, 50],\n",
    "    (-1.57, 0.11, 0.04, 0.04): [50, 50, 50, 50, 50, 50],\n",
    "    (1.57, 0.11, -0.84, -0.84): [50, 50, 50, 50, 50, 50],\n",
    "    (1.57, 0.11, 0.04, 0.04): [50, 50, 50, 50, 50, 50],\n",
    "    (0, 0.32, -0.84, -0.84): [50, 50, 50, 50, 50, 50],\n",
    "    (0, 0.32, 0.04, 0.04): [50, 50, 50, 50, 50, 50],\n",
    "    (3.14, 0.32, -0.84, -0.84): [50, 50, 50, 50, 50, 50],\n",
    "    (3.14, 0.32, 0.04, 0.04): [50, 50, 50, 50, 50, 50],\n",
    "    (-1.57, 0.32, -0.84, -0.84): [50, 50, 50, 50, 50, 50],\n",
    "    (-1.57, 0.32, 0.04, 0.04): [50, 50, 50, 50, 50, 50],\n",
    "    (1.57, 0.32, -0.84, -0.84): [50, 50, 50, 50, 50, 50],\n",
    "    (1.57, 0.32, 0.04, 0.04): [50, 50, 50, 50, 50, 50]\n",
    "}\n"
   ]
  },
  {
   "cell_type": "code",
   "execution_count": 4,
   "id": "b0271834-ceb2-47aa-bdb8-b3330e0d8d86",
   "metadata": {},
   "outputs": [],
   "source": [
    "def pick_Q():\n",
    "    choose = random.choices(['Q1' , 'Q2'] , weights=[0.5 , 0.5])\n",
    "    return choose[0]\n",
    "\n",
    "def average_Q1_Q2(Q1,Q2):\n",
    "    Q = {}\n",
    "    for state in Q1:\n",
    "        Q[state] = [(g + h) / 2 for g, h in zip(Q1[state], Q2[state])]\n",
    "    return Q"
   ]
  },
  {
   "cell_type": "code",
   "execution_count": 5,
   "id": "1e5076d8-76ad-4c3a-8715-322031b1e564",
   "metadata": {},
   "outputs": [
    {
     "name": "stdout",
     "output_type": "stream",
     "text": [
      "#################################################\n",
      "Current Episode :  0\n"
     ]
    },
    {
     "ename": "TypeError",
     "evalue": "choose_action() takes 2 positional arguments but 3 were given",
     "output_type": "error",
     "traceback": [
      "\u001b[0;31m---------------------------------------------------------------------------\u001b[0m",
      "\u001b[0;31mTypeError\u001b[0m                                 Traceback (most recent call last)",
      "Cell \u001b[0;32mIn[5], line 10\u001b[0m\n\u001b[1;32m      7\u001b[0m S_t \u001b[38;5;241m=\u001b[39m env\u001b[38;5;241m.\u001b[39mget_current_state()\n\u001b[1;32m      9\u001b[0m final_Q \u001b[38;5;241m=\u001b[39m average_Q1_Q2(Q1,Q2)\n\u001b[0;32m---> 10\u001b[0m action \u001b[38;5;241m=\u001b[39m \u001b[43menv\u001b[49m\u001b[38;5;241;43m.\u001b[39;49m\u001b[43mchoose_action\u001b[49m\u001b[43m(\u001b[49m\u001b[43mfinal_Q\u001b[49m\u001b[43m[\u001b[49m\u001b[43mS_t\u001b[49m\u001b[43m]\u001b[49m\u001b[43m \u001b[49m\u001b[43m,\u001b[49m\u001b[43m \u001b[49m\u001b[43mepsilon\u001b[49m\u001b[43m)\u001b[49m\n\u001b[1;32m     12\u001b[0m A_t \u001b[38;5;241m=\u001b[39m action_to_index[action]\n\u001b[1;32m     13\u001b[0m \u001b[38;5;28;01mwhile\u001b[39;00m env\u001b[38;5;241m.\u001b[39mrounded_position\u001b[38;5;241m!=\u001b[39m env\u001b[38;5;241m.\u001b[39mterminal_state:\n",
      "\u001b[0;31mTypeError\u001b[0m: choose_action() takes 2 positional arguments but 3 were given"
     ]
    }
   ],
   "source": [
    "for episode in range(iterations):\n",
    "    print('#################################################')\n",
    "    print(\"Current Episode : \", episode)\n",
    "    path_to_bot = './bot/robot.urdf'\n",
    "    \n",
    "    env = Pickup_Bot_Env(path_to_bot, False)\n",
    "    S_t = env.get_current_state()\n",
    "\n",
    "    final_Q = average_Q1_Q2(Q1,Q2)\n",
    "    action = env.choose_action(final_Q[S_t] , epsilon)\n",
    "   \n",
    "    A_t = action_to_index[action]\n",
    "    while env.rounded_position!= env.terminal_state:\n",
    "        \n",
    "        env.step(action)\n",
    "        reward = env.get_reward()\n",
    "        \n",
    "        S_t1 = env.rounded_position\n",
    "        action = env.choose_action(final_Q[S_t1] , epsilon)\n",
    "      \n",
    "\n",
    "        A_t1 = action_to_index[action]\n",
    "\n",
    "        \n",
    "        if pick_Q() == 'Q1': #which value to update\n",
    "            \n",
    "            max_idx = np.argmax(Q1[S_t1])\n",
    "        \n",
    "            Q1[S_t][A_t] += alpha*(reward + Q2[S_t1][max_idx] - Q1[S_t][A_t]) #The update will now happen with taking the max of all actions that are possible\n",
    "\n",
    "        elif pick_Q() == 'Q2' :\n",
    "            max_idx = np.argmax(Q2[S_t1])\n",
    "        \n",
    "            Q2[S_t][A_t] += alpha*(reward + Q1[S_t1][max_idx] - Q2[S_t][A_t])\n",
    "\n",
    "        final_Q = average_Q1_Q2(Q1,Q2)\n",
    "        print(\"State | Action | Reward\" , S_t , A_t , reward)\n",
    "        print(\"State_next | Action_next\" , S_t1 ,A_t1 )\n",
    "        print(\"\\n\")\n",
    "        S_t = S_t1\n",
    "        A_t = A_t1\n",
    "        \n",
    "    if episode % 50 == 0:\n",
    "        epsilon = epsilon * (0.95 ** (episode / 10))\n",
    "        os.mkdir('./save_QLearning/{}'.format(episode))\n",
    "        np.save('./save_QLearning/{}/final_Q.npy'.format(episode), final_Q)\n",
    "        \n",
    "    env.reset_env()\n",
    "    "
   ]
  },
  {
   "cell_type": "code",
   "execution_count": null,
   "id": "d13b7bd7-0a8c-4436-9e08-f7784effa1cf",
   "metadata": {},
   "outputs": [],
   "source": []
  }
 ],
 "metadata": {
  "kernelspec": {
   "display_name": "Python 3 (ipykernel)",
   "language": "python",
   "name": "python3"
  },
  "language_info": {
   "codemirror_mode": {
    "name": "ipython",
    "version": 3
   },
   "file_extension": ".py",
   "mimetype": "text/x-python",
   "name": "python",
   "nbconvert_exporter": "python",
   "pygments_lexer": "ipython3",
   "version": "3.8.18"
  }
 },
 "nbformat": 4,
 "nbformat_minor": 5
}
